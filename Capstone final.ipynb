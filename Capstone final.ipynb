{
 "cells": [
  {
   "cell_type": "markdown",
   "metadata": {},
   "source": [
    "# Capstone Project\n",
    "## Phase 1, Reading the data"
   ]
  },
  {
   "cell_type": "code",
   "execution_count": 1,
   "metadata": {},
   "outputs": [],
   "source": [
    "#Reading positive reviews from the folder and appending it to posrev from training\n",
    "import os\n",
    "import pandas as pd\n",
    "path = r'Y:\\Analytics Vidhya\\Data Science\\Assignment\\Dataset\\aclImdb\\train\\pos'\n",
    "\n",
    "posrev = []\n",
    "files = [path+'/'+f for f in os.listdir(path) if os.path.isfile(path+'/'+f)]\n",
    "for f in files:\n",
    "    with open (f, 'r',encoding='iso-8859-1') as myfile:\n",
    "        posrev.append(myfile.read())\n"
   ]
  },
  {
   "cell_type": "code",
   "execution_count": 2,
   "metadata": {},
   "outputs": [
    {
     "data": {
      "text/html": [
       "<div>\n",
       "<style scoped>\n",
       "    .dataframe tbody tr th:only-of-type {\n",
       "        vertical-align: middle;\n",
       "    }\n",
       "\n",
       "    .dataframe tbody tr th {\n",
       "        vertical-align: top;\n",
       "    }\n",
       "\n",
       "    .dataframe thead th {\n",
       "        text-align: right;\n",
       "    }\n",
       "</style>\n",
       "<table border=\"1\" class=\"dataframe\">\n",
       "  <thead>\n",
       "    <tr style=\"text-align: right;\">\n",
       "      <th></th>\n",
       "      <th>review</th>\n",
       "      <th>label</th>\n",
       "    </tr>\n",
       "  </thead>\n",
       "  <tbody>\n",
       "    <tr>\n",
       "      <th>0</th>\n",
       "      <td>Bromwell High is a cartoon comedy. It ran at t...</td>\n",
       "      <td>positive</td>\n",
       "    </tr>\n",
       "    <tr>\n",
       "      <th>1</th>\n",
       "      <td>Homelessness (or Houselessness as George Carli...</td>\n",
       "      <td>positive</td>\n",
       "    </tr>\n",
       "    <tr>\n",
       "      <th>2</th>\n",
       "      <td>Brilliant over-acting by Lesley Ann Warren. Be...</td>\n",
       "      <td>positive</td>\n",
       "    </tr>\n",
       "    <tr>\n",
       "      <th>3</th>\n",
       "      <td>This is easily the most underrated film inn th...</td>\n",
       "      <td>positive</td>\n",
       "    </tr>\n",
       "    <tr>\n",
       "      <th>4</th>\n",
       "      <td>This is not the typical Mel Brooks film. It wa...</td>\n",
       "      <td>positive</td>\n",
       "    </tr>\n",
       "  </tbody>\n",
       "</table>\n",
       "</div>"
      ],
      "text/plain": [
       "                                              review     label\n",
       "0  Bromwell High is a cartoon comedy. It ran at t...  positive\n",
       "1  Homelessness (or Houselessness as George Carli...  positive\n",
       "2  Brilliant over-acting by Lesley Ann Warren. Be...  positive\n",
       "3  This is easily the most underrated film inn th...  positive\n",
       "4  This is not the typical Mel Brooks film. It wa...  positive"
      ]
     },
     "execution_count": 2,
     "metadata": {},
     "output_type": "execute_result"
    }
   ],
   "source": [
    "#Assigning the positive reviews to a dataframe\n",
    "trainpos=pd.DataFrame(posrev,columns=['review'])\n",
    "trainpos['label']='positive'\n",
    "trainpos.head()"
   ]
  },
  {
   "cell_type": "code",
   "execution_count": 3,
   "metadata": {},
   "outputs": [],
   "source": [
    "#Reading negative reviews from the folder and appending it to negrev from training\n",
    "path = r'Y:\\Analytics Vidhya\\Data Science\\Assignment\\Dataset\\aclImdb\\train\\neg'\n",
    "negrev = []\n",
    "files1 = [path+'/'+f for f in os.listdir(path) if os.path.isfile(path+'/'+f)]\n",
    "for f in files1:\n",
    "    with open (f, 'r',encoding='iso-8859-1') as myfile:\n",
    "        negrev.append(myfile.read())\n"
   ]
  },
  {
   "cell_type": "code",
   "execution_count": 4,
   "metadata": {},
   "outputs": [
    {
     "data": {
      "text/html": [
       "<div>\n",
       "<style scoped>\n",
       "    .dataframe tbody tr th:only-of-type {\n",
       "        vertical-align: middle;\n",
       "    }\n",
       "\n",
       "    .dataframe tbody tr th {\n",
       "        vertical-align: top;\n",
       "    }\n",
       "\n",
       "    .dataframe thead th {\n",
       "        text-align: right;\n",
       "    }\n",
       "</style>\n",
       "<table border=\"1\" class=\"dataframe\">\n",
       "  <thead>\n",
       "    <tr style=\"text-align: right;\">\n",
       "      <th></th>\n",
       "      <th>review</th>\n",
       "      <th>label</th>\n",
       "    </tr>\n",
       "  </thead>\n",
       "  <tbody>\n",
       "    <tr>\n",
       "      <th>0</th>\n",
       "      <td>Story of a man who has unnatural feelings for ...</td>\n",
       "      <td>negative</td>\n",
       "    </tr>\n",
       "    <tr>\n",
       "      <th>1</th>\n",
       "      <td>Airport '77 starts as a brand new luxury 747 p...</td>\n",
       "      <td>negative</td>\n",
       "    </tr>\n",
       "    <tr>\n",
       "      <th>2</th>\n",
       "      <td>This film lacked something I couldn't put my f...</td>\n",
       "      <td>negative</td>\n",
       "    </tr>\n",
       "    <tr>\n",
       "      <th>3</th>\n",
       "      <td>Sorry everyone,,, I know this is supposed to b...</td>\n",
       "      <td>negative</td>\n",
       "    </tr>\n",
       "    <tr>\n",
       "      <th>4</th>\n",
       "      <td>When I was little my parents took me along to ...</td>\n",
       "      <td>negative</td>\n",
       "    </tr>\n",
       "  </tbody>\n",
       "</table>\n",
       "</div>"
      ],
      "text/plain": [
       "                                              review     label\n",
       "0  Story of a man who has unnatural feelings for ...  negative\n",
       "1  Airport '77 starts as a brand new luxury 747 p...  negative\n",
       "2  This film lacked something I couldn't put my f...  negative\n",
       "3  Sorry everyone,,, I know this is supposed to b...  negative\n",
       "4  When I was little my parents took me along to ...  negative"
      ]
     },
     "execution_count": 4,
     "metadata": {},
     "output_type": "execute_result"
    }
   ],
   "source": [
    "#Assigning the negative reviews to a dataframe\n",
    "trainneg=pd.DataFrame(negrev,columns=['review'])\n",
    "trainneg['label']='negative'\n",
    "trainneg.head()"
   ]
  },
  {
   "cell_type": "code",
   "execution_count": 5,
   "metadata": {},
   "outputs": [
    {
     "data": {
      "text/plain": [
       "(25000, 2)"
      ]
     },
     "execution_count": 5,
     "metadata": {},
     "output_type": "execute_result"
    }
   ],
   "source": [
    "#Concatinating both positive and negative reviews into a single dataframe named training which contains all the reviews from \n",
    "#the training folder\n",
    "training = pd.concat([trainpos, trainneg])\n",
    "training.shape"
   ]
  },
  {
   "cell_type": "code",
   "execution_count": 6,
   "metadata": {},
   "outputs": [
    {
     "data": {
      "text/html": [
       "<div>\n",
       "<style scoped>\n",
       "    .dataframe tbody tr th:only-of-type {\n",
       "        vertical-align: middle;\n",
       "    }\n",
       "\n",
       "    .dataframe tbody tr th {\n",
       "        vertical-align: top;\n",
       "    }\n",
       "\n",
       "    .dataframe thead th {\n",
       "        text-align: right;\n",
       "    }\n",
       "</style>\n",
       "<table border=\"1\" class=\"dataframe\">\n",
       "  <thead>\n",
       "    <tr style=\"text-align: right;\">\n",
       "      <th></th>\n",
       "      <th>review</th>\n",
       "      <th>label</th>\n",
       "    </tr>\n",
       "  </thead>\n",
       "  <tbody>\n",
       "    <tr>\n",
       "      <th>0</th>\n",
       "      <td>I went and saw this movie last night after bei...</td>\n",
       "      <td>positive</td>\n",
       "    </tr>\n",
       "    <tr>\n",
       "      <th>1</th>\n",
       "      <td>Actor turned director Bill Paxton follows up h...</td>\n",
       "      <td>positive</td>\n",
       "    </tr>\n",
       "    <tr>\n",
       "      <th>2</th>\n",
       "      <td>As a recreational golfer with some knowledge o...</td>\n",
       "      <td>positive</td>\n",
       "    </tr>\n",
       "    <tr>\n",
       "      <th>3</th>\n",
       "      <td>I saw this film in a sneak preview, and it is ...</td>\n",
       "      <td>positive</td>\n",
       "    </tr>\n",
       "    <tr>\n",
       "      <th>4</th>\n",
       "      <td>Bill Paxton has taken the true story of the 19...</td>\n",
       "      <td>positive</td>\n",
       "    </tr>\n",
       "  </tbody>\n",
       "</table>\n",
       "</div>"
      ],
      "text/plain": [
       "                                              review     label\n",
       "0  I went and saw this movie last night after bei...  positive\n",
       "1  Actor turned director Bill Paxton follows up h...  positive\n",
       "2  As a recreational golfer with some knowledge o...  positive\n",
       "3  I saw this film in a sneak preview, and it is ...  positive\n",
       "4  Bill Paxton has taken the true story of the 19...  positive"
      ]
     },
     "execution_count": 6,
     "metadata": {},
     "output_type": "execute_result"
    }
   ],
   "source": [
    "#Reading positive reviews from the folder and appending it to posrev1 from testing\n",
    "#Assigning the positive reviews to a dataframe\n",
    "path = r'Y:\\Analytics Vidhya\\Data Science\\Assignment\\Dataset\\aclImdb\\test\\pos'\n",
    "posrev1 = []\n",
    "files2 = [path+'/'+f for f in os.listdir(path) if os.path.isfile(path+'/'+f)]\n",
    "for f in files2:\n",
    "    with open (f, 'r',encoding='iso-8859-1') as myfile:\n",
    "        posrev1.append(myfile.read())\n",
    "\n",
    "testpos=pd.DataFrame(posrev1,columns=['review'])\n",
    "testpos['label']='positive'\n",
    "testpos.head()"
   ]
  },
  {
   "cell_type": "code",
   "execution_count": 7,
   "metadata": {},
   "outputs": [
    {
     "data": {
      "text/html": [
       "<div>\n",
       "<style scoped>\n",
       "    .dataframe tbody tr th:only-of-type {\n",
       "        vertical-align: middle;\n",
       "    }\n",
       "\n",
       "    .dataframe tbody tr th {\n",
       "        vertical-align: top;\n",
       "    }\n",
       "\n",
       "    .dataframe thead th {\n",
       "        text-align: right;\n",
       "    }\n",
       "</style>\n",
       "<table border=\"1\" class=\"dataframe\">\n",
       "  <thead>\n",
       "    <tr style=\"text-align: right;\">\n",
       "      <th></th>\n",
       "      <th>review</th>\n",
       "      <th>label</th>\n",
       "    </tr>\n",
       "  </thead>\n",
       "  <tbody>\n",
       "    <tr>\n",
       "      <th>0</th>\n",
       "      <td>Once again Mr. Costner has dragged out a movie...</td>\n",
       "      <td>negative</td>\n",
       "    </tr>\n",
       "    <tr>\n",
       "      <th>1</th>\n",
       "      <td>This is an example of why the majority of acti...</td>\n",
       "      <td>negative</td>\n",
       "    </tr>\n",
       "    <tr>\n",
       "      <th>2</th>\n",
       "      <td>First of all I hate those moronic rappers, who...</td>\n",
       "      <td>negative</td>\n",
       "    </tr>\n",
       "    <tr>\n",
       "      <th>3</th>\n",
       "      <td>Not even the Beatles could write songs everyon...</td>\n",
       "      <td>negative</td>\n",
       "    </tr>\n",
       "    <tr>\n",
       "      <th>4</th>\n",
       "      <td>Brass pictures (movies is not a fitting word f...</td>\n",
       "      <td>negative</td>\n",
       "    </tr>\n",
       "  </tbody>\n",
       "</table>\n",
       "</div>"
      ],
      "text/plain": [
       "                                              review     label\n",
       "0  Once again Mr. Costner has dragged out a movie...  negative\n",
       "1  This is an example of why the majority of acti...  negative\n",
       "2  First of all I hate those moronic rappers, who...  negative\n",
       "3  Not even the Beatles could write songs everyon...  negative\n",
       "4  Brass pictures (movies is not a fitting word f...  negative"
      ]
     },
     "execution_count": 7,
     "metadata": {},
     "output_type": "execute_result"
    }
   ],
   "source": [
    "#Reading negative reviews from the folder and appending it to negrev1 from testing\n",
    "#Assigning the negative reviews to a dataframe\n",
    "path = r'Y:\\Analytics Vidhya\\Data Science\\Assignment\\Dataset\\aclImdb\\test\\neg'\n",
    "negrev1 = []\n",
    "files3 = [path+'/'+f for f in os.listdir(path) if os.path.isfile(path+'/'+f)]\n",
    "for f in files3:\n",
    "    with open (f, 'r',encoding='iso-8859-1') as myfile:\n",
    "        negrev1.append(myfile.read())\n",
    "\n",
    "testneg=pd.DataFrame(negrev1,columns=['review'])\n",
    "testneg['label']='negative'\n",
    "testneg.head()"
   ]
  },
  {
   "cell_type": "code",
   "execution_count": 8,
   "metadata": {},
   "outputs": [
    {
     "data": {
      "text/plain": [
       "(25000, 2)"
      ]
     },
     "execution_count": 8,
     "metadata": {},
     "output_type": "execute_result"
    }
   ],
   "source": [
    "#Concatinating both positive and negative reviews into a single dataframe named testing which contains all the reviews from \n",
    "#the testing folder\n",
    "testing = pd.concat([testpos, testneg])\n",
    "testing.shape"
   ]
  },
  {
   "cell_type": "markdown",
   "metadata": {},
   "source": [
    "## Phase 1.2 - Cleaning the data"
   ]
  },
  {
   "cell_type": "code",
   "execution_count": 9,
   "metadata": {},
   "outputs": [],
   "source": [
    "#Importing all the necessary packages\n",
    "import nltk\n",
    "from nltk.corpus import stopwords\n",
    "from nltk.stem.snowball import SnowballStemmer \n",
    "from nltk.tokenize import word_tokenize"
   ]
  },
  {
   "cell_type": "code",
   "execution_count": 10,
   "metadata": {},
   "outputs": [],
   "source": [
    "# Tokenizing the data for easier manipulating\n",
    "training['review'] = training['review'].str.lower().str.replace('[^a-z]', ' ').str.split()"
   ]
  },
  {
   "cell_type": "code",
   "execution_count": 11,
   "metadata": {},
   "outputs": [],
   "source": [
    "#Removing stop words using a lambda function after downloading the stop words list from the nltk module\n",
    "training['review'] = training['review'].apply(lambda x: [word for word in x if word not in set(stopwords.words('english'))])"
   ]
  },
  {
   "cell_type": "code",
   "execution_count": 12,
   "metadata": {},
   "outputs": [
    {
     "data": {
      "text/html": [
       "<div>\n",
       "<style scoped>\n",
       "    .dataframe tbody tr th:only-of-type {\n",
       "        vertical-align: middle;\n",
       "    }\n",
       "\n",
       "    .dataframe tbody tr th {\n",
       "        vertical-align: top;\n",
       "    }\n",
       "\n",
       "    .dataframe thead th {\n",
       "        text-align: right;\n",
       "    }\n",
       "</style>\n",
       "<table border=\"1\" class=\"dataframe\">\n",
       "  <thead>\n",
       "    <tr style=\"text-align: right;\">\n",
       "      <th></th>\n",
       "      <th>review</th>\n",
       "      <th>label</th>\n",
       "    </tr>\n",
       "  </thead>\n",
       "  <tbody>\n",
       "    <tr>\n",
       "      <th>0</th>\n",
       "      <td>[bromwell, high, cartoon, comedy, ran, time, p...</td>\n",
       "      <td>positive</td>\n",
       "    </tr>\n",
       "    <tr>\n",
       "      <th>1</th>\n",
       "      <td>[homelessness, houselessness, george, carlin, ...</td>\n",
       "      <td>positive</td>\n",
       "    </tr>\n",
       "    <tr>\n",
       "      <th>2</th>\n",
       "      <td>[brilliant, acting, lesley, ann, warren, best,...</td>\n",
       "      <td>positive</td>\n",
       "    </tr>\n",
       "    <tr>\n",
       "      <th>3</th>\n",
       "      <td>[easily, underrated, film, inn, brooks, cannon...</td>\n",
       "      <td>positive</td>\n",
       "    </tr>\n",
       "    <tr>\n",
       "      <th>4</th>\n",
       "      <td>[typical, mel, brooks, film, much, less, slaps...</td>\n",
       "      <td>positive</td>\n",
       "    </tr>\n",
       "  </tbody>\n",
       "</table>\n",
       "</div>"
      ],
      "text/plain": [
       "                                              review     label\n",
       "0  [bromwell, high, cartoon, comedy, ran, time, p...  positive\n",
       "1  [homelessness, houselessness, george, carlin, ...  positive\n",
       "2  [brilliant, acting, lesley, ann, warren, best,...  positive\n",
       "3  [easily, underrated, film, inn, brooks, cannon...  positive\n",
       "4  [typical, mel, brooks, film, much, less, slaps...  positive"
      ]
     },
     "execution_count": 12,
     "metadata": {},
     "output_type": "execute_result"
    }
   ],
   "source": [
    "training.head()"
   ]
  },
  {
   "cell_type": "code",
   "execution_count": 13,
   "metadata": {},
   "outputs": [],
   "source": [
    "#Stemming the words snowball stemmer as it is slightly faster and accurate than porterstemmer\n",
    "#refer https://zhiyu-chen.gitbooks.io/notes-of-nlp-with-python-/content/stemmer.html\n",
    "stemmer = SnowballStemmer(\"english\")\n",
    "training['review'] = training['review'].apply(lambda x:[stemmer.stem(word) for word in x])"
   ]
  },
  {
   "cell_type": "code",
   "execution_count": 14,
   "metadata": {},
   "outputs": [
    {
     "data": {
      "text/html": [
       "<div>\n",
       "<style scoped>\n",
       "    .dataframe tbody tr th:only-of-type {\n",
       "        vertical-align: middle;\n",
       "    }\n",
       "\n",
       "    .dataframe tbody tr th {\n",
       "        vertical-align: top;\n",
       "    }\n",
       "\n",
       "    .dataframe thead th {\n",
       "        text-align: right;\n",
       "    }\n",
       "</style>\n",
       "<table border=\"1\" class=\"dataframe\">\n",
       "  <thead>\n",
       "    <tr style=\"text-align: right;\">\n",
       "      <th></th>\n",
       "      <th>review</th>\n",
       "      <th>label</th>\n",
       "    </tr>\n",
       "  </thead>\n",
       "  <tbody>\n",
       "    <tr>\n",
       "      <th>0</th>\n",
       "      <td>[bromwel, high, cartoon, comedi, ran, time, pr...</td>\n",
       "      <td>positive</td>\n",
       "    </tr>\n",
       "    <tr>\n",
       "      <th>1</th>\n",
       "      <td>[homeless, houseless, georg, carlin, state, is...</td>\n",
       "      <td>positive</td>\n",
       "    </tr>\n",
       "    <tr>\n",
       "      <th>2</th>\n",
       "      <td>[brilliant, act, lesley, ann, warren, best, dr...</td>\n",
       "      <td>positive</td>\n",
       "    </tr>\n",
       "    <tr>\n",
       "      <th>3</th>\n",
       "      <td>[easili, underr, film, inn, brook, cannon, sur...</td>\n",
       "      <td>positive</td>\n",
       "    </tr>\n",
       "    <tr>\n",
       "      <th>4</th>\n",
       "      <td>[typic, mel, brook, film, much, less, slapstic...</td>\n",
       "      <td>positive</td>\n",
       "    </tr>\n",
       "  </tbody>\n",
       "</table>\n",
       "</div>"
      ],
      "text/plain": [
       "                                              review     label\n",
       "0  [bromwel, high, cartoon, comedi, ran, time, pr...  positive\n",
       "1  [homeless, houseless, georg, carlin, state, is...  positive\n",
       "2  [brilliant, act, lesley, ann, warren, best, dr...  positive\n",
       "3  [easili, underr, film, inn, brook, cannon, sur...  positive\n",
       "4  [typic, mel, brook, film, much, less, slapstic...  positive"
      ]
     },
     "execution_count": 14,
     "metadata": {},
     "output_type": "execute_result"
    }
   ],
   "source": [
    "training.head()"
   ]
  },
  {
   "cell_type": "code",
   "execution_count": 15,
   "metadata": {},
   "outputs": [],
   "source": [
    "# Lemmatization using wordnetlemmatizer\n",
    "from nltk.stem import WordNetLemmatizer\n",
    "wordnet_lemmatizer = WordNetLemmatizer()\n",
    "training['review'] = training['review'].apply(lambda x:[wordnet_lemmatizer.lemmatize(word) for word in x])"
   ]
  },
  {
   "cell_type": "code",
   "execution_count": 16,
   "metadata": {},
   "outputs": [
    {
     "data": {
      "text/html": [
       "<div>\n",
       "<style scoped>\n",
       "    .dataframe tbody tr th:only-of-type {\n",
       "        vertical-align: middle;\n",
       "    }\n",
       "\n",
       "    .dataframe tbody tr th {\n",
       "        vertical-align: top;\n",
       "    }\n",
       "\n",
       "    .dataframe thead th {\n",
       "        text-align: right;\n",
       "    }\n",
       "</style>\n",
       "<table border=\"1\" class=\"dataframe\">\n",
       "  <thead>\n",
       "    <tr style=\"text-align: right;\">\n",
       "      <th></th>\n",
       "      <th>review</th>\n",
       "      <th>label</th>\n",
       "    </tr>\n",
       "  </thead>\n",
       "  <tbody>\n",
       "    <tr>\n",
       "      <th>0</th>\n",
       "      <td>[bromwel, high, cartoon, comedi, ran, time, pr...</td>\n",
       "      <td>positive</td>\n",
       "    </tr>\n",
       "    <tr>\n",
       "      <th>1</th>\n",
       "      <td>[homeless, houseless, georg, carlin, state, is...</td>\n",
       "      <td>positive</td>\n",
       "    </tr>\n",
       "    <tr>\n",
       "      <th>2</th>\n",
       "      <td>[brilliant, act, lesley, ann, warren, best, dr...</td>\n",
       "      <td>positive</td>\n",
       "    </tr>\n",
       "    <tr>\n",
       "      <th>3</th>\n",
       "      <td>[easili, underr, film, inn, brook, cannon, sur...</td>\n",
       "      <td>positive</td>\n",
       "    </tr>\n",
       "    <tr>\n",
       "      <th>4</th>\n",
       "      <td>[typic, mel, brook, film, much, le, slapstick,...</td>\n",
       "      <td>positive</td>\n",
       "    </tr>\n",
       "  </tbody>\n",
       "</table>\n",
       "</div>"
      ],
      "text/plain": [
       "                                              review     label\n",
       "0  [bromwel, high, cartoon, comedi, ran, time, pr...  positive\n",
       "1  [homeless, houseless, georg, carlin, state, is...  positive\n",
       "2  [brilliant, act, lesley, ann, warren, best, dr...  positive\n",
       "3  [easili, underr, film, inn, brook, cannon, sur...  positive\n",
       "4  [typic, mel, brook, film, much, le, slapstick,...  positive"
      ]
     },
     "execution_count": 16,
     "metadata": {},
     "output_type": "execute_result"
    }
   ],
   "source": [
    "training.head()"
   ]
  },
  {
   "cell_type": "code",
   "execution_count": 17,
   "metadata": {},
   "outputs": [],
   "source": [
    "# Joining the words back and saving it as a csv for easier access and saving time\n",
    "training['review'] = training['review'].apply(lambda x: \" \".join([word for word in x]))\n",
    "training['review'].head()\n",
    "training.to_csv(\"training.csv\")"
   ]
  },
  {
   "cell_type": "code",
   "execution_count": 18,
   "metadata": {},
   "outputs": [],
   "source": [
    "#importing the packages again for the ease of reading it from the saved csv file\n",
    "import pandas as pd\n",
    "import matplotlib as plt\n",
    "import nltk"
   ]
  },
  {
   "cell_type": "code",
   "execution_count": 19,
   "metadata": {},
   "outputs": [],
   "source": [
    "training = pd.read_csv(\"training.csv\")"
   ]
  },
  {
   "cell_type": "code",
   "execution_count": 20,
   "metadata": {},
   "outputs": [],
   "source": [
    "#Count vectorizer for transforming the reviews into integer values for the counting the values\n",
    "from sklearn.feature_extraction.text import CountVectorizer\n",
    "cvp = CountVectorizer()\n",
    "cvn = CountVectorizer()\n",
    "trp = training[training[\"label\"] == \"positive\"]\n",
    "trn = training[training[\"label\"] == \"negative\"]\n",
    "pv = cvp.fit_transform(trp.review)\n",
    "nv = cvn.fit_transform(trn.review)"
   ]
  },
  {
   "cell_type": "code",
   "execution_count": 21,
   "metadata": {},
   "outputs": [
    {
     "name": "stdout",
     "output_type": "stream",
     "text": [
      "[('br', 49236), ('film', 25314), ('movi', 22666), ('one', 14173), ('like', 10463), ('time', 8499), ('good', 7844), ('see', 7493), ('stori', 7481), ('charact', 7076)]\n"
     ]
    }
   ],
   "source": [
    "#Most common words used in the positive reviews in the dataset\n",
    "sum_words = pv.sum(axis = 0)\n",
    "pos_freq = [(word, sum_words[0, idx]) for word, idx in cvp.vocabulary_.items()]\n",
    "pos_freq =sorted(pos_freq, key = lambda x: x[1], reverse=True)\n",
    "print(pos_freq[:10])"
   ]
  },
  {
   "cell_type": "code",
   "execution_count": 22,
   "metadata": {},
   "outputs": [
    {
     "name": "stdout",
     "output_type": "stream",
     "text": [
      "[('br', 52636), ('movi', 29051), ('film', 22896), ('one', 13576), ('like', 12343), ('make', 8243), ('bad', 8002), ('even', 7801), ('time', 7699), ('get', 7667)]\n"
     ]
    }
   ],
   "source": [
    "#Most common words used in the negative reviews in the dataset\n",
    "sum_words = nv.sum(axis = 0)\n",
    "neg_freq = [(word, sum_words[0, idx]) for word, idx in cvn.vocabulary_.items()]\n",
    "neg_freq =sorted(neg_freq, key = lambda x: x[1], reverse=True)\n",
    "print(neg_freq[:10])"
   ]
  },
  {
   "cell_type": "code",
   "execution_count": 23,
   "metadata": {},
   "outputs": [
    {
     "name": "stdout",
     "output_type": "stream",
     "text": [
      "[['br', 101872], ['movi', 51717], ['film', 48210], ['one', 27749], ['like', 22806], ['time', 16198], ['good', 15368], ['make', 15212], ['charact', 14184], ['get', 14143]]\n",
      "[['houseless', 1], ['godbi', 1], ['pyschosi', 1], ['listner', 1], ['stetner', 1], ['taupin', 1], ['sutdi', 1], ['alterior', 1], ['asesino', 1], ['milimet', 1]]\n"
     ]
    }
   ],
   "source": [
    "#Most common words used in the entire dataset \n",
    "cv = CountVectorizer()\n",
    "v = cv.fit_transform(training.review)\n",
    "cv.get_feature_names()\n",
    "sum_words = v.sum(axis = 0)\n",
    "word_freq = [[word, sum_words[0, idx]] for word, idx in cv.vocabulary_.items()]\n",
    "high_freq =sorted(word_freq, key = lambda x: x[1], reverse=True)\n",
    "low_freq =sorted(word_freq, key = lambda x: x[1], reverse=False)\n",
    "print(high_freq[:10])\n",
    "print(low_freq[:10])"
   ]
  },
  {
   "cell_type": "markdown",
   "metadata": {},
   "source": [
    "## Phase 3 -  Visualization"
   ]
  },
  {
   "cell_type": "code",
   "execution_count": 24,
   "metadata": {},
   "outputs": [
    {
     "data": {
      "text/plain": [
       "<matplotlib.figure.Figure at 0x26c95d14cf8>"
      ]
     },
     "metadata": {},
     "output_type": "display_data"
    }
   ],
   "source": [
    "#WORDCLOUD\n",
    "#Pip installing the wordcloud module and plotting the wordcloud\n",
    "from wordcloud import WordCloud\n",
    "import matplotlib.pyplot as plt\n",
    "text = training.review\n",
    "wordcloud = WordCloud(\n",
    "    width = 3000,\n",
    "    height = 2000,\n",
    "    background_color = 'black').generate(str(text))\n",
    "fig = plt.figure(\n",
    "    figsize = (40, 30),\n",
    "    facecolor = 'k',\n",
    "    edgecolor = 'k')\n",
    "plt.imshow(wordcloud, interpolation = 'bilinear')\n",
    "plt.axis('off')\n",
    "plt.tight_layout(pad=0)\n",
    "plt.show()"
   ]
  },
  {
   "cell_type": "code",
   "execution_count": 25,
   "metadata": {},
   "outputs": [
    {
     "name": "stdout",
     "output_type": "stream",
     "text": [
      "['aa', 'aaa', 'aaaaaaah', 'aaaaah', 'aaaaatch', 'aaaahhhhhhh', 'aaaand', 'aaaarrgh', 'aaah', 'aaargh']\n"
     ]
    },
    {
     "data": {
      "text/plain": [
       "0          aa\n",
       "1         aaa\n",
       "2    aaaaaaah\n",
       "3      aaaaah\n",
       "4    aaaaatch\n",
       "dtype: object"
      ]
     },
     "execution_count": 25,
     "metadata": {},
     "output_type": "execute_result"
    }
   ],
   "source": [
    "#HISTOGRAM\n",
    "#Manipulating the data into a series for ease of plotting the histogram for the frequency of words\n",
    "import matplotlib as plt\n",
    "import seaborn as sns\n",
    "wf = cv.get_feature_names()\n",
    "print(wf[:10])\n",
    "wf = pd.Series(wf)\n",
    "wf.head()"
   ]
  },
  {
   "cell_type": "code",
   "execution_count": 26,
   "metadata": {},
   "outputs": [
    {
     "data": {
      "text/plain": [
       "<matplotlib.axes._subplots.AxesSubplot at 0x26c970a8828>"
      ]
     },
     "execution_count": 26,
     "metadata": {},
     "output_type": "execute_result"
    },
    {
     "data": {
      "image/png": "[encoded data removed]",
      "text/plain": [
       "<matplotlib.figure.Figure at 0x26c97a69f28>"
      ]
     },
     "metadata": {},
     "output_type": "display_data"
    }
   ],
   "source": [
    "%matplotlib inline\n",
    "wf.value_counts().head(20).sort_index(ascending=False).plot.barh()"
   ]
  },
  {
   "cell_type": "code",
   "execution_count": 27,
   "metadata": {},
   "outputs": [
    {
     "data": {
      "text/plain": [
       "array([[0, 0, 0, ..., 0, 0, 0],\n",
       "       [0, 0, 0, ..., 0, 0, 0],\n",
       "       [0, 0, 0, ..., 0, 0, 0],\n",
       "       ...,\n",
       "       [0, 0, 0, ..., 0, 0, 0],\n",
       "       [0, 0, 0, ..., 0, 0, 0],\n",
       "       [0, 0, 0, ..., 0, 0, 0]], dtype=int64)"
      ]
     },
     "execution_count": 27,
     "metadata": {},
     "output_type": "execute_result"
    }
   ],
   "source": [
    "v.toarray()"
   ]
  },
  {
   "cell_type": "code",
   "execution_count": 28,
   "metadata": {},
   "outputs": [],
   "source": [
    "#Cleaning, removing stopwords, stemming and lemmatization done for the testing dataset\n",
    "testing['review'] = testing['review'].str.lower().str.replace('[^a-z]', ' ').str.split()\n",
    "testing['review'] = testing['review'].apply(lambda x: [word for word in x if word not in set(stopwords.words('english'))])\n",
    "testing['review'] = testing['review'].apply(lambda x:[stemmer.stem(word) for word in x])\n",
    "testing['review'] = testing['review'].apply(lambda x:[wordnet_lemmatizer.lemmatize(word) for word in x])\n",
    "testing['review'] = testing['review'].apply(lambda x: \" \".join([word for word in x]))\n",
    "testing.to_csv(\"testing.csv\")"
   ]
  },
  {
   "cell_type": "code",
   "execution_count": 29,
   "metadata": {},
   "outputs": [],
   "source": [
    "#Concatenating the training and testing dataset and saving it as a csv file for easy access\n",
    "total = pd.concat([training, testing])\n",
    "total.reset_index()\n",
    "total.to_csv(\"total.csv\")"
   ]
  },
  {
   "cell_type": "code",
   "execution_count": 30,
   "metadata": {},
   "outputs": [],
   "source": [
    "import pandas as pd\n",
    "import numpy as np\n",
    "total = pd.read_csv(\"total.csv\")"
   ]
  },
  {
   "cell_type": "markdown",
   "metadata": {},
   "source": [
    "## Phase 4 - Hypothesis testing\n",
    "#### In hypothesis tesing, The training dataset is used to evaluate the accuracy measures of each algorithm seperately and the one that has the highest accuracy is picked for the entire algorithm"
   ]
  },
  {
   "cell_type": "code",
   "execution_count": 31,
   "metadata": {},
   "outputs": [],
   "source": [
    "#Splitting the training dataset into train and test dataset comfortable for classification Algorithms\n",
    "from sklearn.model_selection import train_test_split\n",
    "X_train, X_test, y_train, y_test = train_test_split(training[\"review\"], training[\"label\"], test_size=0.25, random_state=0)"
   ]
  },
  {
   "cell_type": "code",
   "execution_count": 32,
   "metadata": {},
   "outputs": [
    {
     "name": "stdout",
     "output_type": "stream",
     "text": [
      "Accuracy achieved is 0.85368\n"
     ]
    },
    {
     "name": "stderr",
     "output_type": "stream",
     "text": [
      "C:\\Users\\HP-PC\\A3\\lib\\site-packages\\sklearn\\metrics\\classification.py:1428: UserWarning: labels size, 2, does not match size of target_names, 12500\n",
      "  .format(len(labels), len(target_names))\n"
     ]
    },
    {
     "name": "stdout",
     "output_type": "stream",
     "text": [
      "             precision    recall  f1-score   support\n",
      "\n",
      "   positive       0.84      0.87      0.86      6252\n",
      "   negative       0.87      0.84      0.85      6248\n",
      "\n",
      "avg / total       0.85      0.85      0.85     12500\n",
      "\n"
     ]
    },
    {
     "data": {
      "text/plain": [
       "array([[5447,  805],\n",
       "       [1024, 5224]], dtype=int64)"
      ]
     },
     "execution_count": 32,
     "metadata": {},
     "output_type": "execute_result"
    }
   ],
   "source": [
    "#Naive Bayes Algorithm with the use of pipeline in which tfdif vectorizer and classifier itself is used\n",
    "from sklearn.pipeline import Pipeline\n",
    "from sklearn.feature_extraction.text import TfidfVectorizer\n",
    "from sklearn.naive_bayes import MultinomialNB\n",
    "\n",
    "nb_clf = Pipeline([('vect', TfidfVectorizer()), \n",
    "                      ('clf', MultinomialNB()) ])\n",
    "\n",
    "# train the model\n",
    "nb_clf.fit(X_train, y_train)\n",
    "# Predict the test cases\n",
    "predicted = nb_clf.predict(X_test)\n",
    "\n",
    "from sklearn import metrics\n",
    "from sklearn.metrics import accuracy_score\n",
    "import numpy as np\n",
    "\n",
    "print('Accuracy achieved is ' + str(np.mean(predicted == y_test)))\n",
    "print(metrics.classification_report(y_test, predicted, target_names= y_test)),\n",
    "metrics.confusion_matrix(y_test, predicted)\n"
   ]
  },
  {
   "cell_type": "code",
   "execution_count": 33,
   "metadata": {},
   "outputs": [
    {
     "name": "stdout",
     "output_type": "stream",
     "text": [
      "Accuracy achieved is 0.49984\n",
      "             precision    recall  f1-score   support\n",
      "\n",
      "   positive       0.00      0.00      0.00      6252\n",
      "   negative       0.50      1.00      0.67      6248\n",
      "\n",
      "avg / total       0.25      0.50      0.33     12500\n",
      "\n"
     ]
    },
    {
     "name": "stderr",
     "output_type": "stream",
     "text": [
      "C:\\Users\\HP-PC\\A3\\lib\\site-packages\\sklearn\\metrics\\classification.py:1428: UserWarning: labels size, 2, does not match size of target_names, 12500\n",
      "  .format(len(labels), len(target_names))\n",
      "C:\\Users\\HP-PC\\A3\\lib\\site-packages\\sklearn\\metrics\\classification.py:1135: UndefinedMetricWarning: Precision and F-score are ill-defined and being set to 0.0 in labels with no predicted samples.\n",
      "  'precision', 'predicted', average, warn_for)\n"
     ]
    },
    {
     "data": {
      "text/plain": [
       "array([[   0, 6252],\n",
       "       [   0, 6248]], dtype=int64)"
      ]
     },
     "execution_count": 33,
     "metadata": {},
     "output_type": "execute_result"
    }
   ],
   "source": [
    "# Support Vector machines algorithm is applied with the same pipeline\n",
    "from sklearn.svm import SVC\n",
    "\n",
    "svc_clf = Pipeline([('vect', TfidfVectorizer()), \n",
    "                      ('clf', SVC()) ])\n",
    "\n",
    "# train the model\n",
    "svc_clf.fit(X_train, y_train)\n",
    "# Predict the test cases\n",
    "svc_predicted = svc_clf.predict(X_test)\n",
    "\n",
    "print('Accuracy achieved is ' + str(np.mean(svc_predicted == y_test)))\n",
    "print(metrics.classification_report(y_test, svc_predicted, target_names= y_test)),\n",
    "metrics.confusion_matrix(y_test, svc_predicted)\n"
   ]
  },
  {
   "cell_type": "code",
   "execution_count": 34,
   "metadata": {},
   "outputs": [
    {
     "name": "stdout",
     "output_type": "stream",
     "text": [
      "Accuracy achieved is 0.73656\n",
      "             precision    recall  f1-score   support\n",
      "\n",
      "   positive       0.74      0.74      0.74      6252\n",
      "   negative       0.74      0.74      0.74      6248\n",
      "\n",
      "avg / total       0.74      0.74      0.74     12500\n",
      "\n"
     ]
    },
    {
     "name": "stderr",
     "output_type": "stream",
     "text": [
      "C:\\Users\\HP-PC\\A3\\lib\\site-packages\\sklearn\\metrics\\classification.py:1428: UserWarning: labels size, 2, does not match size of target_names, 12500\n",
      "  .format(len(labels), len(target_names))\n"
     ]
    },
    {
     "data": {
      "text/plain": [
       "array([[4614, 1638],\n",
       "       [1655, 4593]], dtype=int64)"
      ]
     },
     "execution_count": 34,
     "metadata": {},
     "output_type": "execute_result"
    }
   ],
   "source": [
    "# Random Forest Algorithm\n",
    "from sklearn.ensemble import RandomForestClassifier\n",
    "\n",
    "rf_clf = Pipeline([('vect', TfidfVectorizer()), \n",
    "                      ('clf', RandomForestClassifier(n_estimators = 5)) ])\n",
    "\n",
    "# train the model\n",
    "rf_clf.fit(X_train, y_train)\n",
    "# Predict the test cases\n",
    "rf_predicted = rf_clf.predict(X_test)\n",
    "\n",
    "print('Accuracy achieved is ' + str(np.mean(rf_predicted == y_test)))\n",
    "print(metrics.classification_report(y_test, rf_predicted, target_names= y_test)),\n",
    "metrics.confusion_matrix(y_test, rf_predicted)\n"
   ]
  },
  {
   "cell_type": "code",
   "execution_count": 35,
   "metadata": {},
   "outputs": [
    {
     "name": "stdout",
     "output_type": "stream",
     "text": [
      "Accuracy achieved is 0.72416\n",
      "             precision    recall  f1-score   support\n",
      "\n",
      "   positive       0.72      0.72      0.72      6252\n",
      "   negative       0.72      0.73      0.72      6248\n",
      "\n",
      "avg / total       0.72      0.72      0.72     12500\n",
      "\n"
     ]
    },
    {
     "name": "stderr",
     "output_type": "stream",
     "text": [
      "C:\\Users\\HP-PC\\A3\\lib\\site-packages\\sklearn\\metrics\\classification.py:1428: UserWarning: labels size, 2, does not match size of target_names, 12500\n",
      "  .format(len(labels), len(target_names))\n"
     ]
    },
    {
     "data": {
      "text/plain": [
       "array([[4518, 1734],\n",
       "       [1714, 4534]], dtype=int64)"
      ]
     },
     "execution_count": 35,
     "metadata": {},
     "output_type": "execute_result"
    }
   ],
   "source": [
    "# Decision Tree Classifier\n",
    "from sklearn.tree import DecisionTreeClassifier\n",
    "clf = DecisionTreeClassifier(criterion='gini')\n",
    "\n",
    "dt_clf = Pipeline([('vect', TfidfVectorizer()), \n",
    "                      ('clf', DecisionTreeClassifier(criterion = \"gini\")) ])\n",
    "\n",
    "# train the model\n",
    "dt_clf.fit(X_train, y_train)\n",
    "# Predict the test cases\n",
    "dt_predicted = dt_clf.predict(X_test)\n",
    "\n",
    "print('Accuracy achieved is ' + str(np.mean(dt_predicted == y_test)))\n",
    "print(metrics.classification_report(y_test, dt_predicted, target_names= y_test)),\n",
    "metrics.confusion_matrix(y_test, dt_predicted)\n"
   ]
  },
  {
   "cell_type": "markdown",
   "metadata": {},
   "source": [
    "### Out of all the algorithms, the Naive Bayes had the most accuracy with 0.853. It was also the quickest to compile.\n",
    "### SVM had the least accuracy with 0.499 and took the most time to compile"
   ]
  },
  {
   "cell_type": "markdown",
   "metadata": {},
   "source": [
    "## Phase 5 - Supervised and Unsupervised Algorithms"
   ]
  },
  {
   "cell_type": "code",
   "execution_count": null,
   "metadata": {},
   "outputs": [],
   "source": [
    "# Naive bayes for the total dataset \n",
    "\n",
    "from sklearn.model_selection import train_test_split\n",
    "X_train, X_test, y_train, y_test = train_test_split(total[\"review\"], total[\"label\"], test_size=0.25, random_state=0)\n",
    "\n",
    "from sklearn.pipeline import Pipeline\n",
    "from sklearn.feature_extraction.text import TfidfVectorizer\n",
    "from sklearn.naive_bayes import MultinomialNB\n",
    "\n",
    "nb_clf = Pipeline([('vect', TfidfVectorizer()), \n",
    "                      ('clf', MultinomialNB()) ])\n",
    "\n",
    "# train the model\n",
    "nb_clf.fit(X_train, y_train)\n",
    "# Predict the test cases\n",
    "predicted = nb_clf.predict(X_test)\n",
    "\n",
    "from sklearn import metrics\n",
    "from sklearn.metrics import accuracy_score\n",
    "import numpy as np\n",
    "\n",
    "print('Accuracy achieved is ' + str(np.mean(predicted == y_test)))\n",
    "print(metrics.classification_report(y_test, predicted, target_names= y_test)),\n",
    "metrics.confusion_matrix(y_test, predicted)"
   ]
  },
  {
   "cell_type": "code",
   "execution_count": null,
   "metadata": {},
   "outputs": [],
   "source": [
    "# Supervised Algorithm no. 2 -  RandomforestClassifier\n",
    "from sklearn.ensemble import RandomForestClassifier\n",
    "\n",
    "rf_clf = Pipeline([('vect', TfidfVectorizer()), \n",
    "                      ('clf', RandomForestClassifier(n_estimators = 5)) ])\n",
    "\n",
    "# train the model\n",
    "rf_clf.fit(X_train, y_train)\n",
    "# Predict the test cases\n",
    "rf_predicted = rf_clf.predict(X_test)\n",
    "\n",
    "print('Accuracy achieved is ' + str(np.mean(rf_predicted == y_test)))\n",
    "print(metrics.classification_report(y_test, rf_predicted, target_names= y_test)),\n",
    "metrics.confusion_matrix(y_test, rf_predicted)\n"
   ]
  },
  {
   "cell_type": "code",
   "execution_count": 36,
   "metadata": {},
   "outputs": [
    {
     "data": {
      "text/html": [
       "<div>\n",
       "<style scoped>\n",
       "    .dataframe tbody tr th:only-of-type {\n",
       "        vertical-align: middle;\n",
       "    }\n",
       "\n",
       "    .dataframe tbody tr th {\n",
       "        vertical-align: top;\n",
       "    }\n",
       "\n",
       "    .dataframe thead th {\n",
       "        text-align: right;\n",
       "    }\n",
       "</style>\n",
       "<table border=\"1\" class=\"dataframe\">\n",
       "  <thead>\n",
       "    <tr style=\"text-align: right;\">\n",
       "      <th></th>\n",
       "      <th>review</th>\n",
       "    </tr>\n",
       "  </thead>\n",
       "  <tbody>\n",
       "    <tr>\n",
       "      <th>0</th>\n",
       "      <td>I admit, the great majority of films released ...</td>\n",
       "    </tr>\n",
       "    <tr>\n",
       "      <th>1</th>\n",
       "      <td>Take a low budget, inexperienced actors doubli...</td>\n",
       "    </tr>\n",
       "    <tr>\n",
       "      <th>2</th>\n",
       "      <td>Everybody has seen 'Back To The Future,' right...</td>\n",
       "    </tr>\n",
       "    <tr>\n",
       "      <th>3</th>\n",
       "      <td>Doris Day was an icon of beauty in singing and...</td>\n",
       "    </tr>\n",
       "    <tr>\n",
       "      <th>4</th>\n",
       "      <td>After a series of silly, fun-loving movies, 19...</td>\n",
       "    </tr>\n",
       "  </tbody>\n",
       "</table>\n",
       "</div>"
      ],
      "text/plain": [
       "                                              review\n",
       "0  I admit, the great majority of films released ...\n",
       "1  Take a low budget, inexperienced actors doubli...\n",
       "2  Everybody has seen 'Back To The Future,' right...\n",
       "3  Doris Day was an icon of beauty in singing and...\n",
       "4  After a series of silly, fun-loving movies, 19..."
      ]
     },
     "execution_count": 36,
     "metadata": {},
     "output_type": "execute_result"
    }
   ],
   "source": [
    "# Importing the unsupervised data \n",
    "import os\n",
    "path = r'Y:\\Analytics Vidhya\\Data Science\\Assignment\\Dataset\\aclImdb\\train\\unsup'\n",
    "\n",
    "unsup = []\n",
    "files4 = [path+'/'+f for f in os.listdir(path) if os.path.isfile(path+'/'+f)]\n",
    "for f in files4:\n",
    "    with open (f, 'r',encoding='iso-8859-1') as myfile:\n",
    "        unsup.append(myfile.read())\n",
    "unlabelled =pd.DataFrame(unsup,columns=['review'])\n",
    "unlabelled.head()"
   ]
  },
  {
   "cell_type": "markdown",
   "metadata": {},
   "source": [
    "import nltk\n",
    "from nltk.corpus import stopwords\n",
    "from nltk.stem.snowball import SnowballStemmer \n",
    "from nltk.tokenize import word_tokenize\n",
    "from nltk.stem import WordNetLemmatizer\n",
    "wordnet_lemmatizer = WordNetLemmatizer()"
   ]
  },
  {
   "cell_type": "code",
   "execution_count": 38,
   "metadata": {},
   "outputs": [],
   "source": [
    "# Tokenizing, removing stop words, stemming and lemmatizing the unsupervised data and saving it in a csv\n",
    "unlabelled['review'] = unlabelled['review'].str.lower().str.replace('[^a-z]', ' ').str.split()\n",
    "unlabelled['review'] = unlabelled['review'].apply(lambda x: [word for word in x if word not in set(stopwords.words('english'))])\n",
    "unlabelled['review'] = unlabelled['review'].apply(lambda x:[stemmer.stem(word) for word in x])\n",
    "unlabelled['review'] = unlabelled['review'].apply(lambda x:[wordnet_lemmatizer.lemmatize(word) for word in x])\n",
    "unlabelled['review'] = unlabelled['review'].apply(lambda x: \" \".join([word for word in x]))\n",
    "unlabelled.to_csv(\"unlabelled.csv\")\n",
    "vectorizer = TfidfVectorizer()\n",
    "ul = vectorizer.fit_transform(unlabelled[\"review\"])"
   ]
  },
  {
   "cell_type": "code",
   "execution_count": 51,
   "metadata": {},
   "outputs": [
    {
     "name": "stdout",
     "output_type": "stream",
     "text": [
      "0 : br, movi, film, one, like, good, charact, watch, time, make\n",
      "1 : movi, film, br, one, like, watch, good, time, see, make\n"
     ]
    }
   ],
   "source": [
    "# Clustering using the Kmeans algorithm into 2 clusters, presumably positive and negative reviews\n",
    "from sklearn.cluster import KMeans\n",
    "words = vectorizer.get_feature_names()\n",
    "kmeans = KMeans(n_clusters = 2, init = 'k-means++', n_init = 5, n_jobs = 1)\n",
    "kmeans.fit(ul)\n",
    "common_words = kmeans.cluster_centers_.argsort()[:,-1:-11:-1]\n",
    "for num, centroid in enumerate(common_words):\n",
    "    print(str(num) + ' : ' + ', '.join(words[word] for word in centroid))\n",
    "# The most common words on cluster 0 are all attributed to positive review and cluster 1 negative clearly\n"
   ]
  },
  {
   "cell_type": "code",
   "execution_count": 52,
   "metadata": {},
   "outputs": [],
   "source": [
    "mapping = {0 : \"positive\", 1 : \"negative\"}\n",
    "mapped = [mapping[x] for x in kmeans.labels_]\n",
    "unlabelled[\"labels\"] = mapped"
   ]
  },
  {
   "cell_type": "code",
   "execution_count": 53,
   "metadata": {},
   "outputs": [
    {
     "data": {
      "text/html": [
       "<div>\n",
       "<style scoped>\n",
       "    .dataframe tbody tr th:only-of-type {\n",
       "        vertical-align: middle;\n",
       "    }\n",
       "\n",
       "    .dataframe tbody tr th {\n",
       "        vertical-align: top;\n",
       "    }\n",
       "\n",
       "    .dataframe thead th {\n",
       "        text-align: right;\n",
       "    }\n",
       "</style>\n",
       "<table border=\"1\" class=\"dataframe\">\n",
       "  <thead>\n",
       "    <tr style=\"text-align: right;\">\n",
       "      <th></th>\n",
       "      <th>review</th>\n",
       "      <th>labels</th>\n",
       "    </tr>\n",
       "  </thead>\n",
       "  <tbody>\n",
       "    <tr>\n",
       "      <th>0</th>\n",
       "      <td>admit great major film releas say dozen major ...</td>\n",
       "      <td>positive</td>\n",
       "    </tr>\n",
       "    <tr>\n",
       "      <th>1</th>\n",
       "      <td>take low budget inexperienc actor doubl produc...</td>\n",
       "      <td>negative</td>\n",
       "    </tr>\n",
       "    <tr>\n",
       "      <th>2</th>\n",
       "      <td>everybodi seen back futur right whether like m...</td>\n",
       "      <td>positive</td>\n",
       "    </tr>\n",
       "    <tr>\n",
       "      <th>3</th>\n",
       "      <td>dori day icon beauti sing act warm voic genius...</td>\n",
       "      <td>negative</td>\n",
       "    </tr>\n",
       "    <tr>\n",
       "      <th>4</th>\n",
       "      <td>seri silli fun love movi big year dori day yea...</td>\n",
       "      <td>positive</td>\n",
       "    </tr>\n",
       "  </tbody>\n",
       "</table>\n",
       "</div>"
      ],
      "text/plain": [
       "                                              review    labels\n",
       "0  admit great major film releas say dozen major ...  positive\n",
       "1  take low budget inexperienc actor doubl produc...  negative\n",
       "2  everybodi seen back futur right whether like m...  positive\n",
       "3  dori day icon beauti sing act warm voic genius...  negative\n",
       "4  seri silli fun love movi big year dori day yea...  positive"
      ]
     },
     "execution_count": 53,
     "metadata": {},
     "output_type": "execute_result"
    }
   ],
   "source": [
    "unlabelled.head()"
   ]
  },
  {
   "cell_type": "code",
   "execution_count": 49,
   "metadata": {},
   "outputs": [
    {
     "name": "stdout",
     "output_type": "stream",
     "text": [
      "0 : br, movi, film, one, like, good, watch, charact, time, get\n",
      "1 : br, movi, film, one, show, like, time, charact, stori, get\n",
      "2 : movi, br, watch, like, bad, one, good, realli, see, time\n",
      "3 : film, br, one, like, charact, movi, good, see, make, time\n"
     ]
    }
   ],
   "source": [
    "# Clustering using the Kmeans algorithm into 4 clusters, and checking if it can be labelled\n",
    "from sklearn.cluster import KMeans\n",
    "kmeans = KMeans(n_clusters = 4, init = 'k-means++', n_jobs = 1)\n",
    "kmeans.fit(ul)\n",
    "common_words = kmeans.cluster_centers_.argsort()[:,-1:-11:-1]\n",
    "for num, centroid in enumerate(common_words):\n",
    "    print(str(num) + ' : ' + ', '.join(words[word] for word in centroid))\n"
   ]
  },
  {
   "cell_type": "code",
   "execution_count": null,
   "metadata": {},
   "outputs": [],
   "source": [
    "# Clustering using the Kmeans algorithm into 3 clusters, and checking if it can be labelled\n",
    "from sklearn.cluster import KMeans\n",
    "kmeans = KMeans(n_clusters = 3, init = 'k-means++', n_jobs = 1)\n",
    "kmeans.fit(ul)\n",
    "common_words = kmeans.cluster_centers_.argsort()[:,-1:-11:-1]\n",
    "for num, centroid in enumerate(common_words):\n",
    "    print(str(num) + ' : ' + ', '.join(words[word] for word in centroid))\n"
   ]
  },
  {
   "cell_type": "markdown",
   "metadata": {},
   "source": [
    "### The dataset, when seperated into 4 clusters or 3 clusters, does not split the data which can be put into different classes.\n",
    "### Therefore the clustering cannot be labelled using any class."
   ]
  }
 ],
 "metadata": {
  "kernelspec": {
   "display_name": "Python 3",
   "language": "python",
   "name": "python3"
  },
  "language_info": {
   "codemirror_mode": {
    "name": "ipython",
    "version": 3
   },
   "file_extension": ".py",
   "mimetype": "text/x-python",
   "name": "python",
   "nbconvert_exporter": "python",
   "pygments_lexer": "ipython3",
   "version": "3.6.4"
  }
 },
 "nbformat": 4,
 "nbformat_minor": 2
}
